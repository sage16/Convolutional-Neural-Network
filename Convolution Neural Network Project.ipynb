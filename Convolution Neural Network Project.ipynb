{
 "cells": [
  {
   "cell_type": "markdown",
   "metadata": {},
   "source": [
    "### Import Libraries"
   ]
  },
  {
   "cell_type": "code",
   "execution_count": 1,
   "metadata": {},
   "outputs": [],
   "source": [
    "import tensorflow as tf\n",
    "from keras.preprocessing.image import ImageDataGenerator"
   ]
  },
  {
   "cell_type": "markdown",
   "metadata": {},
   "source": [
    "### Data Preprocessing"
   ]
  },
  {
   "cell_type": "markdown",
   "metadata": {},
   "source": [
    "Preprocessing the Training set"
   ]
  },
  {
   "cell_type": "code",
   "execution_count": 2,
   "metadata": {},
   "outputs": [
    {
     "name": "stdout",
     "output_type": "stream",
     "text": [
      "Found 8000 images belonging to 2 classes.\n"
     ]
    }
   ],
   "source": [
    "train_datagen = ImageDataGenerator(\n",
    "        rescale=1./255,\n",
    "        shear_range=0.2,\n",
    "        zoom_range=0.2,\n",
    "        horizontal_flip=True)\n",
    "training_set = train_datagen.flow_from_directory(\n",
    "        'Deep Learning/dataset/training_set',\n",
    "        target_size=(64,64),\n",
    "        batch_size=32,\n",
    "        class_mode='binary')"
   ]
  },
  {
   "cell_type": "markdown",
   "metadata": {},
   "source": [
    "Preprocessing the Test set"
   ]
  },
  {
   "cell_type": "code",
   "execution_count": 3,
   "metadata": {},
   "outputs": [
    {
     "name": "stdout",
     "output_type": "stream",
     "text": [
      "Found 2000 images belonging to 2 classes.\n"
     ]
    }
   ],
   "source": [
    "test_datagen = ImageDataGenerator(rescale=1./255)\n",
    "test_set = test_datagen.flow_from_directory(\n",
    "        'Deep Learning/dataset/test_set',\n",
    "        target_size=(64,64),\n",
    "        batch_size=32,\n",
    "        class_mode='binary')"
   ]
  },
  {
   "cell_type": "markdown",
   "metadata": {},
   "source": [
    "### Building the CNN"
   ]
  },
  {
   "cell_type": "markdown",
   "metadata": {},
   "source": [
    "Initialize CNN"
   ]
  },
  {
   "cell_type": "code",
   "execution_count": 4,
   "metadata": {},
   "outputs": [],
   "source": [
    "cnn = tf.keras.models.Sequential()"
   ]
  },
  {
   "cell_type": "markdown",
   "metadata": {},
   "source": [
    "Step 1 - Convolution"
   ]
  },
  {
   "cell_type": "code",
   "execution_count": 5,
   "metadata": {},
   "outputs": [],
   "source": [
    "cnn.add(tf.keras.layers.Conv2D(filters=32,kernel_size=3, activation='relu', input_shape=[64,64,3]))"
   ]
  },
  {
   "cell_type": "markdown",
   "metadata": {},
   "source": [
    "Step 2 - Pooling\n"
   ]
  },
  {
   "cell_type": "code",
   "execution_count": 6,
   "metadata": {},
   "outputs": [],
   "source": [
    "cnn.add(tf.keras.layers.MaxPool2D(pool_size=2, strides=2))"
   ]
  },
  {
   "cell_type": "markdown",
   "metadata": {},
   "source": [
    "Add a second convolutional layer"
   ]
  },
  {
   "cell_type": "code",
   "execution_count": 7,
   "metadata": {},
   "outputs": [],
   "source": [
    "cnn.add(tf.keras.layers.Conv2D(filters=32,kernel_size=3, activation='relu'))\n",
    "cnn.add(tf.keras.layers.MaxPool2D(pool_size=2, strides=2))"
   ]
  },
  {
   "cell_type": "markdown",
   "metadata": {},
   "source": [
    "Step 3 - Flattening"
   ]
  },
  {
   "cell_type": "code",
   "execution_count": 8,
   "metadata": {},
   "outputs": [],
   "source": [
    "cnn.add(tf.keras.layers.Flatten())"
   ]
  },
  {
   "cell_type": "markdown",
   "metadata": {},
   "source": [
    "Step 4 - Full Connection"
   ]
  },
  {
   "cell_type": "code",
   "execution_count": 9,
   "metadata": {},
   "outputs": [],
   "source": [
    "cnn.add(tf.keras.layers.Dense(units=128, activation='relu'))"
   ]
  },
  {
   "cell_type": "markdown",
   "metadata": {},
   "source": [
    "Step 5 - Output Layer"
   ]
  },
  {
   "cell_type": "code",
   "execution_count": 10,
   "metadata": {},
   "outputs": [],
   "source": [
    "cnn.add(tf.keras.layers.Dense(units=1, activation='sigmoid'))"
   ]
  },
  {
   "cell_type": "markdown",
   "metadata": {},
   "source": [
    "### Train CNN"
   ]
  },
  {
   "cell_type": "markdown",
   "metadata": {},
   "source": [
    "Compile CNN"
   ]
  },
  {
   "cell_type": "code",
   "execution_count": 13,
   "metadata": {},
   "outputs": [],
   "source": [
    "cnn.compile(optimizer='adam', loss='binary_crossentropy', metrics= ('accuracy'))"
   ]
  },
  {
   "cell_type": "markdown",
   "metadata": {},
   "source": [
    "Train CNN on Training set and evaluate it on the Test set "
   ]
  },
  {
   "cell_type": "code",
   "execution_count": 15,
   "metadata": {},
   "outputs": [
    {
     "name": "stdout",
     "output_type": "stream",
     "text": [
      "Epoch 1/25\n",
      "250/250 [==============================] - 279s 1s/step - loss: 0.6699 - accuracy: 0.5785 - val_loss: 0.6511 - val_accuracy: 0.6345\n",
      "Epoch 2/25\n",
      "250/250 [==============================] - 61s 246ms/step - loss: 0.5996 - accuracy: 0.6756 - val_loss: 0.5602 - val_accuracy: 0.7160\n",
      "Epoch 3/25\n",
      "250/250 [==============================] - 62s 247ms/step - loss: 0.5412 - accuracy: 0.7205 - val_loss: 0.5215 - val_accuracy: 0.7525\n",
      "Epoch 4/25\n",
      "250/250 [==============================] - 61s 242ms/step - loss: 0.5164 - accuracy: 0.7426 - val_loss: 0.5050 - val_accuracy: 0.7620\n",
      "Epoch 5/25\n",
      "250/250 [==============================] - 60s 238ms/step - loss: 0.4976 - accuracy: 0.7592 - val_loss: 0.4800 - val_accuracy: 0.7740\n",
      "Epoch 6/25\n",
      "250/250 [==============================] - 61s 242ms/step - loss: 0.4752 - accuracy: 0.7684 - val_loss: 0.4777 - val_accuracy: 0.7755\n",
      "Epoch 7/25\n",
      "250/250 [==============================] - 60s 241ms/step - loss: 0.4565 - accuracy: 0.7824 - val_loss: 0.5651 - val_accuracy: 0.7205\n",
      "Epoch 8/25\n",
      "250/250 [==============================] - 60s 240ms/step - loss: 0.4492 - accuracy: 0.7893 - val_loss: 0.5369 - val_accuracy: 0.7420\n",
      "Epoch 9/25\n",
      "250/250 [==============================] - 60s 240ms/step - loss: 0.4285 - accuracy: 0.8008 - val_loss: 0.4796 - val_accuracy: 0.7830\n",
      "Epoch 10/25\n",
      "250/250 [==============================] - 60s 240ms/step - loss: 0.4143 - accuracy: 0.8075 - val_loss: 0.5010 - val_accuracy: 0.7725\n",
      "Epoch 11/25\n",
      "250/250 [==============================] - 60s 239ms/step - loss: 0.4029 - accuracy: 0.8119 - val_loss: 0.4374 - val_accuracy: 0.8050\n",
      "Epoch 12/25\n",
      "250/250 [==============================] - 60s 240ms/step - loss: 0.3895 - accuracy: 0.8235 - val_loss: 0.4887 - val_accuracy: 0.7775\n",
      "Epoch 13/25\n",
      "250/250 [==============================] - 60s 241ms/step - loss: 0.3801 - accuracy: 0.8248 - val_loss: 0.4428 - val_accuracy: 0.8030\n",
      "Epoch 14/25\n",
      "250/250 [==============================] - 60s 240ms/step - loss: 0.3702 - accuracy: 0.8346 - val_loss: 0.4538 - val_accuracy: 0.8020\n",
      "Epoch 15/25\n",
      "250/250 [==============================] - 60s 240ms/step - loss: 0.3640 - accuracy: 0.8375 - val_loss: 0.4624 - val_accuracy: 0.7920\n",
      "Epoch 16/25\n",
      "250/250 [==============================] - 60s 241ms/step - loss: 0.3347 - accuracy: 0.8503 - val_loss: 0.4698 - val_accuracy: 0.7915\n",
      "Epoch 17/25\n",
      "250/250 [==============================] - 60s 242ms/step - loss: 0.3300 - accuracy: 0.8524 - val_loss: 0.5865 - val_accuracy: 0.7530\n",
      "Epoch 18/25\n",
      "250/250 [==============================] - 60s 240ms/step - loss: 0.3131 - accuracy: 0.8626 - val_loss: 0.4643 - val_accuracy: 0.8150\n",
      "Epoch 19/25\n",
      "250/250 [==============================] - 60s 240ms/step - loss: 0.2988 - accuracy: 0.8698 - val_loss: 0.4829 - val_accuracy: 0.8075\n",
      "Epoch 20/25\n",
      "250/250 [==============================] - 61s 242ms/step - loss: 0.2999 - accuracy: 0.8675 - val_loss: 0.5664 - val_accuracy: 0.7775\n",
      "Epoch 21/25\n",
      "250/250 [==============================] - 60s 239ms/step - loss: 0.2813 - accuracy: 0.8810 - val_loss: 0.5539 - val_accuracy: 0.7780\n",
      "Epoch 22/25\n",
      "250/250 [==============================] - 60s 238ms/step - loss: 0.2762 - accuracy: 0.8794 - val_loss: 0.4895 - val_accuracy: 0.8110\n",
      "Epoch 23/25\n",
      "250/250 [==============================] - 60s 240ms/step - loss: 0.2562 - accuracy: 0.8944 - val_loss: 0.5015 - val_accuracy: 0.8065\n",
      "Epoch 24/25\n",
      "250/250 [==============================] - 61s 243ms/step - loss: 0.2613 - accuracy: 0.8906 - val_loss: 0.4848 - val_accuracy: 0.8040\n",
      "Epoch 25/25\n",
      "250/250 [==============================] - 60s 240ms/step - loss: 0.2469 - accuracy: 0.8970 - val_loss: 0.5114 - val_accuracy: 0.8015\n"
     ]
    },
    {
     "data": {
      "text/plain": [
       "<tensorflow.python.keras.callbacks.History at 0x2020f4e3520>"
      ]
     },
     "execution_count": 15,
     "metadata": {},
     "output_type": "execute_result"
    }
   ],
   "source": [
    "cnn.fit(x= training_set, validation_data = test_set, epochs=25)"
   ]
  },
  {
   "cell_type": "markdown",
   "metadata": {},
   "source": [
    "### Make a single prediction"
   ]
  },
  {
   "cell_type": "code",
   "execution_count": 17,
   "metadata": {},
   "outputs": [],
   "source": [
    "import numpy as np\n",
    "from keras.preprocessing import image"
   ]
  },
  {
   "cell_type": "code",
   "execution_count": 20,
   "metadata": {},
   "outputs": [
    {
     "name": "stdout",
     "output_type": "stream",
     "text": [
      "dog\n"
     ]
    }
   ],
   "source": [
    "test_image = image.load_img('Deep Learning/dataset/single_prediction/cat_or_dog_1.jpg', target_size=(64,64))\n",
    "test_image = image.img_to_array(test_image)\n",
    "test_image = np.expand_dims(test_image, axis= 0)\n",
    "result = cnn.predict(test_image)\n",
    "training_set.class_indices\n",
    "if result[0][0] == 1:\n",
    "    prediction = 'dog'\n",
    "else:\n",
    "    prediction = 'cat'\n",
    "    \n",
    "print(prediction)"
   ]
  },
  {
   "cell_type": "code",
   "execution_count": null,
   "metadata": {},
   "outputs": [],
   "source": []
  }
 ],
 "metadata": {
  "kernelspec": {
   "display_name": "Python 3",
   "language": "python",
   "name": "python3"
  },
  "language_info": {
   "codemirror_mode": {
    "name": "ipython",
    "version": 3
   },
   "file_extension": ".py",
   "mimetype": "text/x-python",
   "name": "python",
   "nbconvert_exporter": "python",
   "pygments_lexer": "ipython3",
   "version": "3.9.1"
  }
 },
 "nbformat": 4,
 "nbformat_minor": 4
}
